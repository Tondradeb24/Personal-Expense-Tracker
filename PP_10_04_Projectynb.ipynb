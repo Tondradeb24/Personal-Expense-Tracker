{
  "nbformat": 4,
  "nbformat_minor": 0,
  "metadata": {
    "colab": {
      "private_outputs": true,
      "provenance": []
    },
    "kernelspec": {
      "name": "python3",
      "display_name": "Python 3"
    },
    "language_info": {
      "name": "python"
    }
  },
  "cells": [
    {
      "cell_type": "markdown",
      "source": [
        "Project Title: \"Personal Expense Tracker\"\n",
        "\n",
        "Objective\n",
        "Develop a Python application that allows users to track their daily expenses, categorize\n",
        "spending, and analyze financial data using file handling, Python data structures, and libraries\n",
        "like Pandas and Matplotlib."
      ],
      "metadata": {
        "id": "GOAhkx5vceSq"
      }
    },
    {
      "cell_type": "markdown",
      "source": [
        "Project Tasks 1\n",
        "1. Data Initialization\n",
        "● Store expense records in a CSV file with fields:\n",
        "○ Date, Category, Description, Amount.\n",
        "● Load and manipulate the data using Pandas."
      ],
      "metadata": {
        "id": "3yzhZKEtdJsK"
      }
    },
    {
      "cell_type": "code",
      "source": [
        "import pandas as pd\n",
        "df = pd.read_csv(\"/content/drive/MyDrive/csv file/expense-csv.CSV\")\n",
        "print(df)"
      ],
      "metadata": {
        "id": "bZHIL1dvcwE6"
      },
      "execution_count": null,
      "outputs": []
    },
    {
      "cell_type": "code",
      "source": [
        "df.head()"
      ],
      "metadata": {
        "id": "rZvQOoMKc-oR"
      },
      "execution_count": null,
      "outputs": []
    },
    {
      "cell_type": "code",
      "source": [
        "df.isnull()"
      ],
      "metadata": {
        "id": "nR37dgt7dBSY"
      },
      "execution_count": null,
      "outputs": []
    },
    {
      "cell_type": "code",
      "source": [
        "df.isnull().sum()"
      ],
      "metadata": {
        "id": "EIQp8xAhgsEZ"
      },
      "execution_count": null,
      "outputs": []
    },
    {
      "cell_type": "markdown",
      "source": [
        "Project Task 2\n",
        "2. Adding and Managing Expenses\n",
        "● Allow users to:\n",
        "○ Add a new expense with details (date, category, description, amount).\n",
        "○ Update an existing expense record by specifying the date and category.\n",
        "○ Delete an expense by date or category."
      ],
      "metadata": {
        "id": "QcB5Aj_GcevC"
      }
    },
    {
      "cell_type": "code",
      "source": [
        "def insert_data(df,new_df):\n",
        "  df = pd.concat([df,new_df], ignore_index=True)\n",
        "  return df\n"
      ],
      "metadata": {
        "id": "KHBErHOFdQvv"
      },
      "execution_count": null,
      "outputs": []
    },
    {
      "cell_type": "code",
      "source": [
        "date = input(\"Enter the date of expenses: \")\n",
        "category = input (\"Enter the category of expenses: \")\n",
        "new_df= pd.DataFrame({'date': [date], 'category':[category]})\n",
        "df= insert_data(df, new_df)"
      ],
      "metadata": {
        "id": "h401vLPihGfg"
      },
      "execution_count": null,
      "outputs": []
    },
    {
      "cell_type": "code",
      "source": [
        "df.shape"
      ],
      "metadata": {
        "id": "gAbQtVQxX6TZ"
      },
      "execution_count": null,
      "outputs": []
    },
    {
      "cell_type": "code",
      "source": [
        "df.tail()"
      ],
      "metadata": {
        "id": "SrrCKu7rjDJg"
      },
      "execution_count": null,
      "outputs": []
    },
    {
      "cell_type": "code",
      "source": [],
      "metadata": {
        "id": "5bA_2ot4jBoZ"
      },
      "execution_count": null,
      "outputs": []
    },
    {
      "cell_type": "code",
      "source": [
        "def update_date_of_df(date, new_date):\n",
        "  df.loc[df['date'] == date, 'date'] = new_date\n",
        "  return df"
      ],
      "metadata": {
        "id": "rxqgLT5unYGA"
      },
      "execution_count": null,
      "outputs": []
    },
    {
      "cell_type": "code",
      "source": [
        "previous_date = input(\"Enter the previous date of the expenses: \")\n",
        "new_date = input(\"Enter the new date of the expenses: \")"
      ],
      "metadata": {
        "id": "ev5SRaH1nrvw"
      },
      "execution_count": null,
      "outputs": []
    },
    {
      "cell_type": "code",
      "source": [
        "update_date_of_df(previous_date, new_date)\n",
        "df.tail()"
      ],
      "metadata": {
        "id": "DmDIBcOxjBvJ"
      },
      "execution_count": null,
      "outputs": []
    },
    {
      "cell_type": "markdown",
      "source": [
        "3. Categorizing Expenses\n",
        "● Predefine categories like Food, Transport, Entertainment, Utilities, and\n",
        "Others.\n",
        "● Validate that the user selects a valid category for each expense."
      ],
      "metadata": {
        "id": "StEpj5WKcKUy"
      }
    },
    {
      "cell_type": "code",
      "source": [],
      "metadata": {
        "id": "QJw8SQB5hrA0"
      },
      "execution_count": null,
      "outputs": []
    },
    {
      "cell_type": "markdown",
      "source": [
        "4. Expense Analysis\n",
        "● Use Pandas and NumPy to:\n",
        "○ Calculate total spending for each category.\n",
        "○ Identify the category with the highest and lowest spending.\n",
        "○ Compute the daily, weekly, and monthly total expenses."
      ],
      "metadata": {
        "id": "51JS4EEAhrVL"
      }
    },
    {
      "cell_type": "code",
      "source": [],
      "metadata": {
        "id": "7m9rM8FcX8Eo"
      },
      "execution_count": null,
      "outputs": []
    },
    {
      "cell_type": "markdown",
      "source": [
        "5. Data Visualization\n",
        "● Visualize the expense data using Matplotlib:\n",
        "○ Bar chart: Spending per category.\n",
        "○ Line chart: Daily expenses over a month.\n",
        "○ Pie chart: Percentage distribution of spending by category."
      ],
      "metadata": {
        "id": "jk9-Bclihrh0"
      }
    },
    {
      "cell_type": "code",
      "source": [
        "import pandas as pd\n",
        "import matplotlib.pyplot as plt\n",
        "data = {\n",
        "    'Date': ['2/18/2024', '2/21/2024', '9/20/2024', '3/11/2024', '6/18/2024', '3/4/2024', '10/20/2024', '3/20/2024', '1/12/2024', '10/16/2024'],\n",
        "    'Category': ['Camaro', '323', 'Eclipse', 'Exige', 'Silverado 3500', 'Envoy XL', 'E-Series', 'F150', 'Yukon', 'Rondo'],\n",
        "    'Description': ['Chevrolet', 'Mazda', 'Mitsubishi', 'Lotus', 'Chevrolet', 'GMC', 'Ford', 'Ford', 'GMC', 'Kia'],\n",
        "    'Amount': [1500, 1200, 1700, 2000, 1800, 1400, 1600, 1300, 1900, 1600]  # Example amounts\n",
        "}\n",
        "\n",
        "df = pd.DataFrame(data)\n",
        "df['Date'] = pd.to_datetime(df['Date'])\n",
        "\n",
        "category_spending = df.groupby('Category')['Amount'].sum().sort_values(ascending=False)\n",
        "\n",
        "plt.figure(figsize=(8, 8))\n",
        "plt.pie(category_spending, labels=category_spending.index, autopct='%1.1f%%', startangle=90, colors=['blue', 'orange', 'green', 'red', 'purple'])\n",
        "plt.title('Percentage Distribution of Spending by Category')\n",
        "plt.axis('equal')\n",
        "plt.show()\n",
        "\n"
      ],
      "metadata": {
        "id": "YH6GbOolX9FQ"
      },
      "execution_count": null,
      "outputs": []
    },
    {
      "cell_type": "code",
      "source": [],
      "metadata": {
        "id": "AXUVhNeOXGpM"
      },
      "execution_count": null,
      "outputs": []
    },
    {
      "cell_type": "code",
      "source": [
        "\n",
        "plt.figure(figsize=(10, 6))\n",
        "category_spending.plot(kind='bar', color='skyblue')\n",
        "plt.title('Spending per Category')\n",
        "plt.xlabel('Category')\n",
        "plt.ylabel('Total Spending ($)')\n",
        "plt.xticks(rotation=45, ha='right')\n",
        "plt.tight_layout()\n",
        "plt.show()\n",
        "\n",
        "daily_expenses = df.groupby('Date')['Amount'].sum()\n"
      ],
      "metadata": {
        "id": "OFWPCYFUXBXG"
      },
      "execution_count": null,
      "outputs": []
    },
    {
      "cell_type": "markdown",
      "source": [
        "6. Budgeting and Alerts\n",
        "● Allow users to set a monthly budget.\n",
        "● Notify the user if their spending exceeds the budget:\n",
        "○ Highlight the over-budget categories."
      ],
      "metadata": {
        "id": "w_12eW0qh1gk"
      }
    },
    {
      "cell_type": "code",
      "source": [],
      "metadata": {
        "id": "Xs1MavQ6X94Q"
      },
      "execution_count": null,
      "outputs": []
    },
    {
      "cell_type": "markdown",
      "source": [
        "7. Advanced Features (Optional for Bonus Marks)\n",
        "● File Handling:\n",
        "○ Save all changes back to the CSV file after modifications.\n",
        "○ Export a summary report of monthly expenses to a new CSV file.\n",
        "● Regular Expressions (RegEx):\n",
        "○ Validate date input in YYYY-MM-DD format.\n",
        "● Automation:\n",
        "○ Generate a monthly summary report automatically."
      ],
      "metadata": {
        "id": "PgrVsOvyh1rT"
      }
    },
    {
      "cell_type": "code",
      "source": [],
      "metadata": {
        "id": "IOSR-TxSX-s4"
      },
      "execution_count": null,
      "outputs": []
    },
    {
      "cell_type": "markdown",
      "source": [
        "8. Interactive Menu\n",
        "● Create a menu-driven interface for the program with options like:\n",
        "○ Add, update, or delete an expense.\n",
        "○ View total spending by category.\n",
        "○ Visualize expense data.\n",
        "○ Set and check the monthly budget.\n",
        "○ Export a summary report."
      ],
      "metadata": {
        "id": "rwLIIPj-h60c"
      }
    },
    {
      "cell_type": "code",
      "source": [],
      "metadata": {
        "id": "aJFFGZUXYAQg"
      },
      "execution_count": null,
      "outputs": []
    }
  ]
}